{
 "cells": [
  {
   "cell_type": "code",
   "execution_count": 1,
   "metadata": {},
   "outputs": [],
   "source": [
    "import numpy as np\n",
    "import numpy.linalg as la\n",
    "\n",
    "A=np.matrix([[2, 4], [1, 3], [0, 0], [0, 0]])\n",
    "n, m=A.shape"
   ]
  },
  {
   "cell_type": "code",
   "execution_count": 2,
   "metadata": {},
   "outputs": [],
   "source": [
    "At=A.transpose()\n",
    "AAt=np.matmul(A, At)\n",
    "AtA=np.matmul(At, A)"
   ]
  },
  {
   "cell_type": "code",
   "execution_count": 3,
   "metadata": {},
   "outputs": [],
   "source": [
    "eigval, U=la.eig(AAt)\n",
    "eigval2, V=la.eig(AtA)\n",
    "\n",
    "D=np.zeros((n, m))\n",
    "np.fill_diagonal(D, (np.sort(eigval)[::-1])**(1/2))"
   ]
  },
  {
   "cell_type": "code",
   "execution_count": 4,
   "metadata": {},
   "outputs": [
    {
     "name": "stdout",
     "output_type": "stream",
     "text": [
      "A=U*D*V(transpose)\n",
      "U = \n",
      " [[ 0.81741556 -0.57604844  0.          0.        ]\n",
      " [ 0.57604844  0.81741556  0.          0.        ]\n",
      " [ 0.          0.          1.          0.        ]\n",
      " [ 0.          0.          0.          1.        ]]\n",
      "D = \n",
      " [[5.4649857  0.        ]\n",
      " [0.         0.36596619]\n",
      " [0.         0.        ]\n",
      " [0.         0.        ]]\n",
      "V transpose = \n",
      " [[-0.9145143   0.40455358]\n",
      " [-0.40455358 -0.9145143 ]]\n"
     ]
    }
   ],
   "source": [
    "print(\"A=U*D*V(transpose)\")\n",
    "print(\"U = \\n\", U)\n",
    "print(\"D = \\n\", D)\n",
    "print(\"V transpose = \\n\", V.transpose())"
   ]
  }
 ],
 "metadata": {
  "kernelspec": {
   "display_name": "Python 3",
   "language": "python",
   "name": "python3"
  },
  "language_info": {
   "codemirror_mode": {
    "name": "ipython",
    "version": 3
   },
   "file_extension": ".py",
   "mimetype": "text/x-python",
   "name": "python",
   "nbconvert_exporter": "python",
   "pygments_lexer": "ipython3",
   "version": "3.7.0"
  }
 },
 "nbformat": 4,
 "nbformat_minor": 2
}
