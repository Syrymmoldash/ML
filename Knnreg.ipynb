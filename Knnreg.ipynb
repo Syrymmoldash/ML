{
 "cells": [
  {
   "cell_type": "code",
   "execution_count": 46,
   "metadata": {},
   "outputs": [
    {
     "data": {
      "text/plain": [
       "(150, 4)"
      ]
     },
     "execution_count": 46,
     "metadata": {},
     "output_type": "execute_result"
    }
   ],
   "source": [
    "import numpy as np\n",
    "import pandas as pd\n",
    "from sklearn.datasets import load_iris\n",
    "from scipy.spatial import distance\n",
    "from sklearn.model_selection import train_test_split\n",
    "df = load_iris()\n",
    "df.data.shape"
   ]
  },
  {
   "cell_type": "code",
   "execution_count": 47,
   "metadata": {},
   "outputs": [],
   "source": [
    "x=df['data']\n",
    "y=df['target']\n",
    "train_x, test_x, train_y, test_y = train_test_split(x, y, test_size=0.33)"
   ]
  },
  {
   "cell_type": "code",
   "execution_count": 48,
   "metadata": {},
   "outputs": [],
   "source": [
    "class KNNReg(object):\n",
    "    def __init__(s, k):\n",
    "        s.k = k\n",
    "    \n",
    "    def fit(s, X,  y):\n",
    "        s.X = X\n",
    "        s.y = y\n",
    "    \n",
    "    def calculate(s, u):\n",
    "        dstns = []\n",
    "        for i in range(len(s.X)):\n",
    "            dstns.append(([y[i]], distance.euclidean(s.X[i], u)))\n",
    "        dstns.sort(key=lambda X: X[1])\n",
    "        kNearest=[]\n",
    "        for i in range(s.k):\n",
    "            kNearest.append(dstns[i][0])\n",
    "        result = 0\n",
    "        for element in kNearest:        \n",
    "            result += element[0]  \n",
    "        return result / s.k\n",
    "        \n",
    "    def predict(s, test_x):\n",
    "        pred_y = []\n",
    "        for u in test_x:\n",
    "            pred_y.append(s.calculate(u))\n",
    "        return pred_y"
   ]
  },
  {
   "cell_type": "code",
   "execution_count": 49,
   "metadata": {},
   "outputs": [
    {
     "name": "stdout",
     "output_type": "stream",
     "text": [
      "1 ) Predict value= 2.0 Real value: 2\n",
      "2 ) Predict value= 0.0 Real value: 0\n",
      "3 ) Predict value= 1.0 Real value: 1\n",
      "4 ) Predict value= 0.0 Real value: 0\n",
      "5 ) Predict value= 2.0 Real value: 2\n",
      "6 ) Predict value= 1.0 Real value: 1\n",
      "7 ) Predict value= 0.0 Real value: 0\n",
      "8 ) Predict value= 1.6666666666666667 Real value: 2\n",
      "9 ) Predict value= 0.0 Real value: 0\n",
      "10 ) Predict value= 0.0 Real value: 0\n",
      "11 ) Predict value= 0.0 Real value: 0\n",
      "12 ) Predict value= 1.0 Real value: 1\n",
      "13 ) Predict value= 1.0 Real value: 1\n",
      "14 ) Predict value= 1.0 Real value: 1\n",
      "15 ) Predict value= 1.0 Real value: 1\n",
      "16 ) Predict value= 2.0 Real value: 2\n",
      "17 ) Predict value= 2.0 Real value: 2\n",
      "18 ) Predict value= 0.0 Real value: 0\n",
      "19 ) Predict value= 1.8333333333333333 Real value: 2\n",
      "20 ) Predict value= 1.8333333333333333 Real value: 2\n",
      "21 ) Predict value= 0.0 Real value: 0\n",
      "22 ) Predict value= 1.0 Real value: 1\n",
      "23 ) Predict value= 0.0 Real value: 0\n",
      "24 ) Predict value= 1.0 Real value: 1\n",
      "25 ) Predict value= 0.0 Real value: 0\n",
      "26 ) Predict value= 0.0 Real value: 0\n",
      "27 ) Predict value= 0.0 Real value: 0\n",
      "28 ) Predict value= 1.8333333333333333 Real value: 2\n",
      "29 ) Predict value= 2.0 Real value: 2\n",
      "30 ) Predict value= 2.0 Real value: 2\n",
      "31 ) Predict value= 0.0 Real value: 0\n",
      "32 ) Predict value= 1.1666666666666667 Real value: 1\n",
      "33 ) Predict value= 2.0 Real value: 2\n",
      "34 ) Predict value= 1.0 Real value: 1\n",
      "35 ) Predict value= 1.0 Real value: 1\n",
      "36 ) Predict value= 2.0 Real value: 2\n",
      "37 ) Predict value= 2.0 Real value: 2\n",
      "38 ) Predict value= 1.0 Real value: 1\n",
      "39 ) Predict value= 0.0 Real value: 0\n",
      "40 ) Predict value= 1.0 Real value: 1\n",
      "41 ) Predict value= 1.0 Real value: 1\n",
      "42 ) Predict value= 1.0 Real value: 1\n",
      "43 ) Predict value= 1.0 Real value: 1\n",
      "44 ) Predict value= 1.0 Real value: 1\n",
      "45 ) Predict value= 0.0 Real value: 0\n",
      "46 ) Predict value= 1.0 Real value: 1\n",
      "47 ) Predict value= 0.0 Real value: 0\n",
      "48 ) Predict value= 0.0 Real value: 0\n",
      "49 ) Predict value= 2.0 Real value: 2\n",
      "50 ) Predict value= 0.0 Real value: 0\n"
     ]
    }
   ],
   "source": [
    "num_neighbors = 6\n",
    "neigh = KNNReg(num_neighbors)\n",
    "neigh.fit(x, y)\n",
    "pred_y = neigh.predict(test_x)\n",
    "for i in range(len(pred_y)):\n",
    "    print(i+1,') Predict value=', pred_y[i], 'Real value:', test_y[i])"
   ]
  },
  {
   "cell_type": "code",
   "execution_count": null,
   "metadata": {},
   "outputs": [],
   "source": []
  }
 ],
 "metadata": {
  "kernelspec": {
   "display_name": "Python 3",
   "language": "python",
   "name": "python3"
  },
  "language_info": {
   "codemirror_mode": {
    "name": "ipython",
    "version": 3
   },
   "file_extension": ".py",
   "mimetype": "text/x-python",
   "name": "python",
   "nbconvert_exporter": "python",
   "pygments_lexer": "ipython3",
   "version": "3.7.0"
  }
 },
 "nbformat": 4,
 "nbformat_minor": 2
}
